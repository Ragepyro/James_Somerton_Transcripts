{
 "cells": [
  {
   "cell_type": "markdown",
   "metadata": {},
   "source": [
    "# Data Gathering Code\n",
    "This notebook is what was used to gather the transcripts using the Youtube API.\n",
    "It has been cleaned up since it's original run  to obtain the transcripts on 12/4/2023. The original messier version of that is archived.  Might add proper code comments later."
   ]
  },
  {
   "cell_type": "code",
   "execution_count": null,
   "metadata": {},
   "outputs": [],
   "source": [
    "# Imports\n",
    "import requests\n",
    "from youtube_transcript_api import YouTubeTranscriptApi, NoTranscriptFound\n",
    "import os"
   ]
  },
  {
   "cell_type": "code",
   "execution_count": 6,
   "metadata": {},
   "outputs": [],
   "source": [
    "youtube_api_key = open('./../../API_keys/youtube.txt').read()"
   ]
  },
  {
   "cell_type": "code",
   "execution_count": 9,
   "metadata": {},
   "outputs": [],
   "source": [
    "def get_video_ids(api_key, channel_id):\n",
    "    url = \"https://www.googleapis.com/youtube/v3/search\"\n",
    "    video_ids = []\n",
    "    next_page_token = None\n",
    "\n",
    "    while True:\n",
    "        params = {\n",
    "            'part': 'id',\n",
    "            'channelId': channel_id,\n",
    "            'maxResults': 50,\n",
    "            'pageToken': next_page_token,\n",
    "            'type': 'video',\n",
    "            'key': api_key\n",
    "        }\n",
    "\n",
    "        response = requests.get(url, params=params).json()\n",
    "\n",
    "        video_ids += [item['id']['videoId'] for item in response.get('items', [])]\n",
    "\n",
    "        next_page_token = response.get('nextPageToken')\n",
    "        if not next_page_token:\n",
    "            break\n",
    "\n",
    "    return video_ids\n"
   ]
  },
  {
   "cell_type": "code",
   "execution_count": 25,
   "metadata": {},
   "outputs": [],
   "source": [
    "def get_video_title(video_id, api_key):\n",
    "    url = f\"https://www.googleapis.com/youtube/v3/videos?id={video_id}&key={api_key}&part=snippet\"\n",
    "    response = requests.get(url).json()\n",
    "    title = response['items'][0]['snippet']['title']\n",
    "    return title"
   ]
  },
  {
   "cell_type": "code",
   "execution_count": 20,
   "metadata": {},
   "outputs": [],
   "source": [
    "def get_transcript(video_id):\n",
    "    try:\n",
    "        transcript_list = YouTubeTranscriptApi.get_transcript(video_id)\n",
    "        return \" \".join([item['text'] for item in transcript_list])\n",
    "    except NoTranscriptFound:\n",
    "        return \"No transcript found\"\n",
    "\n",
    "# Example Usage\n",
    "# video_ids = get_video_ids(your_api_key, channel_id)\n",
    "# for video_id in video_ids:\n",
    "#     print(get_transcript(video_id))\n"
   ]
  },
  {
   "cell_type": "code",
   "execution_count": 15,
   "metadata": {},
   "outputs": [
    {
     "name": "stdout",
     "output_type": "stream",
     "text": [
      "82\n"
     ]
    },
    {
     "data": {
      "text/plain": [
       "['W84ws9AazSc', 'VNvH3a6Aenw', '4wi49P-Qjcc', 'XoUR_PQIdRg', '0Vijus_c-aY']"
      ]
     },
     "execution_count": 15,
     "metadata": {},
     "output_type": "execute_result"
    }
   ],
   "source": [
    "list_video_IDs = get_video_ids(youtube_api_key, \"UCv4VkfbX8YfqodF-4coEEfQ\")\n",
    "print(len(list_video_IDs))\n",
    "list_video_IDs[0:5]"
   ]
  },
  {
   "cell_type": "code",
   "execution_count": 23,
   "metadata": {},
   "outputs": [
    {
     "name": "stdout",
     "output_type": "stream",
     "text": [
      "transcript for video: 'H65WG2s4pzY' was unavailable\n"
     ]
    }
   ],
   "source": [
    "dict_transcripts_two = {}\n",
    "\n",
    "for str_video_id in list_video_IDs:\n",
    "    try:\n",
    "        dict_transcripts_two[str_video_id] = get_transcript(str_video_id)\n",
    "    except:\n",
    "        print(\"transcript for video: '\" + str_video_id + \"' was unavailable\")\n",
    "\n",
    "# video_transcripts now contains a dictionary where keys are video IDs and values are transcripts\n"
   ]
  },
  {
   "cell_type": "markdown",
   "metadata": {},
   "source": [
    "When we search up [the video that did not have a transcript](https://www.youtube.com/watch?v=H65WG2s4pzY)\n",
    "we see that it's just a 2:46 review of Days of Future Past who's subs are unavailable for whatever reason."
   ]
  },
  {
   "cell_type": "code",
   "execution_count": 34,
   "metadata": {
    "scrolled": true
   },
   "outputs": [
    {
     "name": "stdout",
     "output_type": "stream",
     "text": [
      "Info for video: 'H65WG2s4pzY' was unavailable\n"
     ]
    }
   ],
   "source": [
    "dict_transcripts_two = {}\n",
    "\n",
    "for str_video_id in list_video_IDs:\n",
    "    try:\n",
    "        dict_transcripts_two[str_video_id] = {'title': get_video_title(str_video_id, youtube_api_key), \n",
    "                                          'transcript': get_transcript(str_video_id)}\n",
    "    except:\n",
    "        print(\"Info for video: '\" + str_video_id + \"' was unavailable\")\n",
    "\n",
    "# video_transcripts now contains a dictionary where keys are video IDs and values are transcripts\n"
   ]
  },
  {
   "cell_type": "code",
   "execution_count": 35,
   "metadata": {},
   "outputs": [
    {
     "name": "stdout",
     "output_type": "stream",
     "text": [
      "81\n"
     ]
    }
   ],
   "source": [
    "print(len(dict_transcripts_two))\n",
    "#dict_transcripts_two"
   ]
  },
  {
   "cell_type": "code",
   "execution_count": 36,
   "metadata": {},
   "outputs": [
    {
     "name": "stdout",
     "output_type": "stream",
     "text": [
      "71\n"
     ]
    }
   ],
   "source": [
    "print(len(dict_transcripts))\n",
    "#dict_transcripts"
   ]
  },
  {
   "cell_type": "code",
   "execution_count": 42,
   "metadata": {},
   "outputs": [],
   "source": [
    "for video_id, details in dict_transcripts_two.items():\n",
    "    title = details['title']\n",
    "    transcript = details['transcript']\n",
    "    \n",
    "    # Replace characters not allowed in file names\n",
    "    filename = \"\".join([c for c in title if c.isalpha() or c.isdigit() or c==' ']).rstrip()\n",
    "    \n",
    "    # Limiting filename length to avoid errors on some file systems\n",
    "    filename = filename[:100] if len(filename) > 100 else filename\n",
    "\n",
    "    # Writing to file\n",
    "    with open(f\"./data/{filename}.txt\", \"w\", encoding=\"utf-8\") as file:\n",
    "        file.write(transcript)\n"
   ]
  },
  {
   "cell_type": "code",
   "execution_count": 55,
   "metadata": {},
   "outputs": [
    {
     "name": "stdout",
     "output_type": "stream",
     "text": [
      "79 Neil Gaiman: A straight author with amazing queer characters?\n",
      "136 The Real Burden of Being Rich\n",
      "4414 The Troubling Thirst for Jeffrey Dahmer\n",
      "3679 The Traumatic Camp of \"Mommie Dearest\"\n",
      "3462 The Secret Crimes of a Dying Franchise\n",
      "3956 The Gay Horror Manga You Should Be Reading\n",
      "4639 When Hollywood Came Out of the Closet\n",
      "4615 America v. Homosexuality\n",
      "4451 Where The \"Bury Your Gays\" Trope Came From\n",
      "4294 How a Gay Show Changed TV... and Was Forgotten\n",
      "4683 Hollywood's Golden Age (of Queer Coding)\n",
      "4937 How Hollywood was Born Gay\n",
      "10 Coming This Fall\n",
      "35 Fistory!\n",
      "89 The Magic Realism of Revolutionary Girl Utena\n",
      "185 Religion and Anime!\n",
      "127 The Gay Horror Manga You should Be Reading - The Summer Hikaru Died #horrorstories #manga\n",
      "3421 Heartstopper and Queer Optimism\n",
      "2510 Harry Potter and The Closet Under The Stairs - Queer themes in Harry Potter (Video essay)\n",
      "4445 The Queer Joy of Everything Everywhere All At Once\n",
      "889 Geek Movie Review! Captain America: The Winter Solider\n",
      "150 The Barbie to Evangelion Pipeline\n",
      "1363 Days of Marvel Future - Geek Theory Episode 3\n",
      "2471 The Stonewall Film Effect - Gay Geek Theory (Video essay)\n",
      "23 Killing Stalking and the Love of a Bad Boy\n",
      "280 PSA: Taking A Break From Marvel Movies\n",
      "1383 Geek Theory #4: The Fantastic Five!\n",
      "4755 Disney's Silence on Gay Youth\n",
      "1024 Geek Theory - Episode #1 \"The Marvel Issue\"\n",
      "818 Geek Theory - Episode #2 \"The DC Cinematic Black Hole\"\n",
      "1280 Film Theory #1: Is The Blockbuster Dying?\n",
      "3 Video Games and the Choice to be Gay\n"
     ]
    }
   ],
   "source": [
    "int_words_total = 0\n",
    "for str_key_id in dict_transcripts_two.keys():\n",
    "    #dict_transcripts_two[str_key_id][\"word_count\"] = len(dict_transcripts_two[str_key_id][\"transcript\"].split())\n",
    "    #print(dict_transcripts_two[str_key_id][\"word_count\"])\n",
    "    count = dict_transcripts_two[str_key_id][\"word_count\"]\n",
    "    if count < 5000:\n",
    "        print(count, dict_transcripts_two[str_key_id][\"title\"])\n",
    "    int_words_total += dict_transcripts_two[str_key_id][\"word_count\"]"
   ]
  },
  {
   "cell_type": "code",
   "execution_count": 60,
   "metadata": {},
   "outputs": [
    {
     "name": "stdout",
     "output_type": "stream",
     "text": [
      "405 The Brilliance of Our Flag Means Death\n",
      "201 The Secret Crimes of a Dying Franchise\n",
      "221 The Gay Horror Manga You Should Be Reading\n",
      "531 The Tragedy of Being Rich | James Somerton\n",
      "327 The Dangers of Blissful Ignorance\n",
      "345 The Real Hogwarts Legacy\n",
      "231 How Hollywood was Born Gay\n",
      "497 The Sadism of Class\n",
      "382 For The Love of Gay Nuance\n",
      "290 Disney's War Against Gay kids | James Somerton\n",
      "590 SHIPPING - The Good, The Bad, and the Thirsty\n",
      "491 How Wanda Became An Accidental Gay Icon\n",
      "500 The Gay Appeal of Toxic Love\n",
      "390 Hollywood's (Gay) China Problem | James Somerton\n",
      "318 The Queer Dystopia of the LGB Movement\n",
      "551 An Over-Emotional Look at Why JK Rowling is Bad\n",
      "330 Disney's Gay Cultural Appropriation | James Somerton\n",
      "12 Why Bad Gays Are Good\n",
      "480 The Necessity of Gay Crime | James Somerton\n",
      "183 Heartstopper and Queer Optimism\n",
      "371 The Diversity of \"The Rings of Power\"\n",
      "233 Disney's Silence on Gay Youth\n",
      "27 Making It Big: The History of Gay Adult Film (Documentary)\n"
     ]
    }
   ],
   "source": [
    "int_sentence_total = 0\n",
    "for str_key_id in dict_transcripts_two.keys():\n",
    "    dict_transcripts_two[str_key_id][\"sentence_count\"] = len(dict_transcripts_two[str_key_id][\"transcript\"].split(\".\"))\n",
    "    #print(dict_transcripts_two[str_key_id][\"word_count\"])\n",
    "    count = dict_transcripts_two[str_key_id][\"sentence_count\"]\n",
    "    if count > 10:\n",
    "        print(count, dict_transcripts_two[str_key_id][\"title\"])\n",
    "    int_sentence_total += dict_transcripts_two[str_key_id][\"sentence_count\"]"
   ]
  },
  {
   "cell_type": "code",
   "execution_count": 60,
   "metadata": {},
   "outputs": [
    {
     "name": "stdout",
     "output_type": "stream",
     "text": [
      "405 The Brilliance of Our Flag Means Death\n",
      "201 The Secret Crimes of a Dying Franchise\n",
      "221 The Gay Horror Manga You Should Be Reading\n",
      "531 The Tragedy of Being Rich | James Somerton\n",
      "327 The Dangers of Blissful Ignorance\n",
      "345 The Real Hogwarts Legacy\n",
      "231 How Hollywood was Born Gay\n",
      "497 The Sadism of Class\n",
      "382 For The Love of Gay Nuance\n",
      "290 Disney's War Against Gay kids | James Somerton\n",
      "590 SHIPPING - The Good, The Bad, and the Thirsty\n",
      "491 How Wanda Became An Accidental Gay Icon\n",
      "500 The Gay Appeal of Toxic Love\n",
      "390 Hollywood's (Gay) China Problem | James Somerton\n",
      "318 The Queer Dystopia of the LGB Movement\n",
      "551 An Over-Emotional Look at Why JK Rowling is Bad\n",
      "330 Disney's Gay Cultural Appropriation | James Somerton\n",
      "12 Why Bad Gays Are Good\n",
      "480 The Necessity of Gay Crime | James Somerton\n",
      "183 Heartstopper and Queer Optimism\n",
      "371 The Diversity of \"The Rings of Power\"\n",
      "233 Disney's Silence on Gay Youth\n",
      "27 Making It Big: The History of Gay Adult Film (Documentary)\n"
     ]
    }
   ],
   "source": [
    "int_sentence_total = 0\n",
    "for str_key_id in dict_transcripts_two.keys():\n",
    "    dict_transcripts_two[str_key_id][\"sentence_count\"] = len(dict_transcripts_two[str_key_id][\"transcript\"].split(\".\"))\n",
    "    #print(dict_transcripts_two[str_key_id][\"word_count\"])\n",
    "    count = dict_transcripts_two[str_key_id][\"sentence_count\"]\n",
    "    if count > 10:\n",
    "        print(count, dict_transcripts_two[str_key_id][\"title\"])\n",
    "    int_sentence_total += dict_transcripts_two[str_key_id][\"sentence_count\"]"
   ]
  },
  {
   "cell_type": "code",
   "execution_count": 48,
   "metadata": {},
   "outputs": [
    {
     "data": {
      "text/plain": [
       "509802"
      ]
     },
     "execution_count": 48,
     "metadata": {},
     "output_type": "execute_result"
    }
   ],
   "source": [
    "int_words_total"
   ]
  },
  {
   "cell_type": "code",
   "execution_count": 58,
   "metadata": {},
   "outputs": [
    {
     "data": {
      "text/plain": [
       "8110"
      ]
     },
     "execution_count": 58,
     "metadata": {},
     "output_type": "execute_result"
    }
   ],
   "source": [
    "int_sentence_total"
   ]
  }
 ],
 "metadata": {
  "kernelspec": {
   "display_name": "Python 3",
   "language": "python",
   "name": "python3"
  },
  "language_info": {
   "codemirror_mode": {
    "name": "ipython",
    "version": 3
   },
   "file_extension": ".py",
   "mimetype": "text/x-python",
   "name": "python",
   "nbconvert_exporter": "python",
   "pygments_lexer": "ipython3",
   "version": "3.8.5"
  }
 },
 "nbformat": 4,
 "nbformat_minor": 4
}
