{
 "cells": [
  {
   "cell_type": "code",
   "execution_count": 6,
   "metadata": {},
   "outputs": [],
   "source": [
    "youtube_api_key = open('./../../API_keys/youtube.txt').read()"
   ]
  },
  {
   "cell_type": "code",
   "execution_count": 7,
   "metadata": {},
   "outputs": [
    {
     "name": "stdout",
     "output_type": "stream",
     "text": [
      "YouTube API key is valid.\n"
     ]
    }
   ],
   "source": [
    "# Checking if my API key is valid.\n",
    "import requests\n",
    "\n",
    "# Function to test if the YouTube API key is valid\n",
    "def is_youtube_api_key_valid(api_key):\n",
    "    url = \"https://www.googleapis.com/youtube/v3/videos\"\n",
    "    params = {\n",
    "        'part': 'snippet',\n",
    "        'chart': 'mostPopular',\n",
    "        'regionCode': 'US',\n",
    "        'key': api_key\n",
    "    }\n",
    "\n",
    "    response = requests.get(url, params=params)\n",
    "    return response#.status_code == 200\n",
    "\n",
    "# Usage\n",
    "#youtube_api_key = 'YOUR_YOUTUBE_API_KEY'\n",
    "if is_youtube_api_key_valid(youtube_api_key):\n",
    "    print(\"YouTube API key is valid.\")\n",
    "else:\n",
    "    print(\"YouTube API key is invalid or expired.\")\n"
   ]
  },
  {
   "cell_type": "code",
   "execution_count": 8,
   "metadata": {},
   "outputs": [
    {
     "data": {
      "text/plain": [
       "<Response [200]>"
      ]
     },
     "execution_count": 8,
     "metadata": {},
     "output_type": "execute_result"
    }
   ],
   "source": [
    "is_youtube_api_key_valid(youtube_api_key)"
   ]
  },
  {
   "cell_type": "code",
   "execution_count": 9,
   "metadata": {},
   "outputs": [],
   "source": [
    "import requests\n",
    "\n",
    "def get_video_ids(api_key, channel_id):\n",
    "    url = \"https://www.googleapis.com/youtube/v3/search\"\n",
    "    video_ids = []\n",
    "    next_page_token = None\n",
    "\n",
    "    while True:\n",
    "        params = {\n",
    "            'part': 'id',\n",
    "            'channelId': channel_id,\n",
    "            'maxResults': 50,\n",
    "            'pageToken': next_page_token,\n",
    "            'type': 'video',\n",
    "            'key': api_key\n",
    "        }\n",
    "\n",
    "        response = requests.get(url, params=params).json()\n",
    "\n",
    "        video_ids += [item['id']['videoId'] for item in response.get('items', [])]\n",
    "\n",
    "        next_page_token = response.get('nextPageToken')\n",
    "        if not next_page_token:\n",
    "            break\n",
    "\n",
    "    return video_ids\n"
   ]
  },
  {
   "cell_type": "code",
   "execution_count": 25,
   "metadata": {},
   "outputs": [],
   "source": [
    "def get_video_title(video_id, api_key):\n",
    "    url = f\"https://www.googleapis.com/youtube/v3/videos?id={video_id}&key={api_key}&part=snippet\"\n",
    "    response = requests.get(url).json()\n",
    "    title = response['items'][0]['snippet']['title']\n",
    "    return title"
   ]
  },
  {
   "cell_type": "code",
   "execution_count": 15,
   "metadata": {},
   "outputs": [
    {
     "name": "stdout",
     "output_type": "stream",
     "text": [
      "82\n"
     ]
    },
    {
     "data": {
      "text/plain": [
       "['W84ws9AazSc', 'VNvH3a6Aenw', '4wi49P-Qjcc', 'XoUR_PQIdRg', '0Vijus_c-aY']"
      ]
     },
     "execution_count": 15,
     "metadata": {},
     "output_type": "execute_result"
    }
   ],
   "source": [
    "list_video_IDs = get_video_ids(youtube_api_key, \"UCv4VkfbX8YfqodF-4coEEfQ\")\n",
    "print(len(list_video_IDs))\n",
    "list_video_IDs[0:5]"
   ]
  },
  {
   "cell_type": "code",
   "execution_count": 19,
   "metadata": {},
   "outputs": [
    {
     "name": "stdout",
     "output_type": "stream",
     "text": [
      "Collecting youtube-transcript-api\n",
      "  Downloading youtube_transcript_api-0.6.1-py3-none-any.whl (24 kB)\n",
      "Requirement already satisfied: requests in c:\\users\\peridot of earth\\anaconda3\\lib\\site-packages (from youtube-transcript-api) (2.24.0)\n",
      "Requirement already satisfied: urllib3!=1.25.0,!=1.25.1,<1.26,>=1.21.1 in c:\\users\\peridot of earth\\anaconda3\\lib\\site-packages (from requests->youtube-transcript-api) (1.25.11)\n",
      "Requirement already satisfied: certifi>=2017.4.17 in c:\\users\\peridot of earth\\anaconda3\\lib\\site-packages (from requests->youtube-transcript-api) (2023.5.7)\n",
      "Requirement already satisfied: idna<3,>=2.5 in c:\\users\\peridot of earth\\anaconda3\\lib\\site-packages (from requests->youtube-transcript-api) (2.10)\n",
      "Requirement already satisfied: chardet<4,>=3.0.2 in c:\\users\\peridot of earth\\anaconda3\\lib\\site-packages (from requests->youtube-transcript-api) (3.0.4)\n",
      "Installing collected packages: youtube-transcript-api\n",
      "Successfully installed youtube-transcript-api-0.6.1\n"
     ]
    }
   ],
   "source": [
    "!pip install youtube-transcript-api"
   ]
  },
  {
   "cell_type": "code",
   "execution_count": 20,
   "metadata": {},
   "outputs": [],
   "source": [
    "from youtube_transcript_api import YouTubeTranscriptApi, NoTranscriptFound\n",
    "\n",
    "def get_transcript(video_id):\n",
    "    try:\n",
    "        transcript_list = YouTubeTranscriptApi.get_transcript(video_id)\n",
    "        return \" \".join([item['text'] for item in transcript_list])\n",
    "    except NoTranscriptFound:\n",
    "        return \"No transcript found\"\n",
    "\n",
    "# Example Usage\n",
    "# video_ids = get_video_ids(your_api_key, channel_id)\n",
    "# for video_id in video_ids:\n",
    "#     print(get_transcript(video_id))\n"
   ]
  },
  {
   "cell_type": "code",
   "execution_count": 23,
   "metadata": {},
   "outputs": [
    {
     "name": "stdout",
     "output_type": "stream",
     "text": [
      "transcript for video: 'H65WG2s4pzY' was unavailable\n"
     ]
    }
   ],
   "source": [
    "dict_transcripts_two = {}\n",
    "\n",
    "for str_video_id in list_video_IDs:\n",
    "    try:\n",
    "        dict_transcripts_two[str_video_id] = get_transcript(str_video_id)\n",
    "    except:\n",
    "        print(\"transcript for video: '\" + str_video_id + \"' was unavailable\")\n",
    "\n",
    "# video_transcripts now contains a dictionary where keys are video IDs and values are transcripts\n"
   ]
  },
  {
   "cell_type": "code",
   "execution_count": 34,
   "metadata": {
    "scrolled": true
   },
   "outputs": [
    {
     "name": "stdout",
     "output_type": "stream",
     "text": [
      "Info for video: 'H65WG2s4pzY' was unavailable\n"
     ]
    }
   ],
   "source": [
    "dict_transcripts_two = {}\n",
    "\n",
    "for str_video_id in list_video_IDs:\n",
    "    try:\n",
    "        dict_transcripts_two[str_video_id] = {'title': get_video_title(str_video_id, youtube_api_key), \n",
    "                                          'transcript': get_transcript(str_video_id)}\n",
    "    except:\n",
    "        print(\"Info for video: '\" + str_video_id + \"' was unavailable\")\n",
    "\n",
    "# video_transcripts now contains a dictionary where keys are video IDs and values are transcripts\n"
   ]
  },
  {
   "cell_type": "code",
   "execution_count": 35,
   "metadata": {},
   "outputs": [
    {
     "name": "stdout",
     "output_type": "stream",
     "text": [
      "81\n"
     ]
    }
   ],
   "source": [
    "print(len(dict_transcripts_two))\n",
    "#dict_transcripts_two"
   ]
  },
  {
   "cell_type": "code",
   "execution_count": 36,
   "metadata": {},
   "outputs": [
    {
     "name": "stdout",
     "output_type": "stream",
     "text": [
      "71\n"
     ]
    }
   ],
   "source": [
    "print(len(dict_transcripts))\n",
    "#dict_transcripts"
   ]
  },
  {
   "cell_type": "code",
   "execution_count": 40,
   "metadata": {
    "scrolled": true
   },
   "outputs": [
    {
     "ename": "SyntaxError",
     "evalue": "unexpected EOF while parsing (<ipython-input-40-ad41afd879e8>, line 2)",
     "output_type": "error",
     "traceback": [
      "\u001b[1;36m  File \u001b[1;32m\"<ipython-input-40-ad41afd879e8>\"\u001b[1;36m, line \u001b[1;32m2\u001b[0m\n\u001b[1;33m    #print(video_id, \"BLAH\", details)\u001b[0m\n\u001b[1;37m                                     ^\u001b[0m\n\u001b[1;31mSyntaxError\u001b[0m\u001b[1;31m:\u001b[0m unexpected EOF while parsing\n"
     ]
    }
   ],
   "source": [
    "for video_id, details in dict_transcripts_two.items():\n",
    "    #print(video_id, \"BLAH\", details)"
   ]
  },
  {
   "cell_type": "code",
   "execution_count": 42,
   "metadata": {},
   "outputs": [],
   "source": [
    "import os\n",
    "\n",
    "for video_id, details in dict_transcripts_two.items():\n",
    "    title = details['title']\n",
    "    transcript = details['transcript']\n",
    "    \n",
    "    # Replace characters not allowed in file names\n",
    "    filename = \"\".join([c for c in title if c.isalpha() or c.isdigit() or c==' ']).rstrip()\n",
    "    \n",
    "    # Limiting filename length to avoid errors on some file systems\n",
    "    filename = filename[:100] if len(filename) > 100 else filename\n",
    "\n",
    "    # Writing to file\n",
    "    with open(f\"./data/{filename}.txt\", \"w\", encoding=\"utf-8\") as file:\n",
    "        file.write(transcript)\n"
   ]
  },
  {
   "cell_type": "code",
   "execution_count": 43,
   "metadata": {},
   "outputs": [
    {
     "ename": "SyntaxError",
     "evalue": "unexpected EOF while parsing (<ipython-input-43-ba632ff038f0>, line 1)",
     "output_type": "error",
     "traceback": [
      "\u001b[1;36m  File \u001b[1;32m\"<ipython-input-43-ba632ff038f0>\"\u001b[1;36m, line \u001b[1;32m1\u001b[0m\n\u001b[1;33m    for video_id, deets in dict_transcripts_two.items():\u001b[0m\n\u001b[1;37m                                                        ^\u001b[0m\n\u001b[1;31mSyntaxError\u001b[0m\u001b[1;31m:\u001b[0m unexpected EOF while parsing\n"
     ]
    }
   ],
   "source": [
    "for video_id, deets in dict_transcripts_two.items():\n",
    "    deetslen(deets[\"transcript\"].split())"
   ]
  },
  {
   "cell_type": "code",
   "execution_count": 55,
   "metadata": {},
   "outputs": [
    {
     "name": "stdout",
     "output_type": "stream",
     "text": [
      "79 Neil Gaiman: A straight author with amazing queer characters?\n",
      "136 The Real Burden of Being Rich\n",
      "4414 The Troubling Thirst for Jeffrey Dahmer\n",
      "3679 The Traumatic Camp of \"Mommie Dearest\"\n",
      "3462 The Secret Crimes of a Dying Franchise\n",
      "3956 The Gay Horror Manga You Should Be Reading\n",
      "4639 When Hollywood Came Out of the Closet\n",
      "4615 America v. Homosexuality\n",
      "4451 Where The \"Bury Your Gays\" Trope Came From\n",
      "4294 How a Gay Show Changed TV... and Was Forgotten\n",
      "4683 Hollywood's Golden Age (of Queer Coding)\n",
      "4937 How Hollywood was Born Gay\n",
      "10 Coming This Fall\n",
      "35 Fistory!\n",
      "89 The Magic Realism of Revolutionary Girl Utena\n",
      "185 Religion and Anime!\n",
      "127 The Gay Horror Manga You should Be Reading - The Summer Hikaru Died #horrorstories #manga\n",
      "3421 Heartstopper and Queer Optimism\n",
      "2510 Harry Potter and The Closet Under The Stairs - Queer themes in Harry Potter (Video essay)\n",
      "4445 The Queer Joy of Everything Everywhere All At Once\n",
      "889 Geek Movie Review! Captain America: The Winter Solider\n",
      "150 The Barbie to Evangelion Pipeline\n",
      "1363 Days of Marvel Future - Geek Theory Episode 3\n",
      "2471 The Stonewall Film Effect - Gay Geek Theory (Video essay)\n",
      "23 Killing Stalking and the Love of a Bad Boy\n",
      "280 PSA: Taking A Break From Marvel Movies\n",
      "1383 Geek Theory #4: The Fantastic Five!\n",
      "4755 Disney's Silence on Gay Youth\n",
      "1024 Geek Theory - Episode #1 \"The Marvel Issue\"\n",
      "818 Geek Theory - Episode #2 \"The DC Cinematic Black Hole\"\n",
      "1280 Film Theory #1: Is The Blockbuster Dying?\n",
      "3 Video Games and the Choice to be Gay\n"
     ]
    }
   ],
   "source": [
    "int_words_total = 0\n",
    "for str_key_id in dict_transcripts_two.keys():\n",
    "    #dict_transcripts_two[str_key_id][\"word_count\"] = len(dict_transcripts_two[str_key_id][\"transcript\"].split())\n",
    "    #print(dict_transcripts_two[str_key_id][\"word_count\"])\n",
    "    count = dict_transcripts_two[str_key_id][\"word_count\"]\n",
    "    if count < 5000:\n",
    "        print(count, dict_transcripts_two[str_key_id][\"title\"])\n",
    "    int_words_total += dict_transcripts_two[str_key_id][\"word_count\"]"
   ]
  },
  {
   "cell_type": "code",
   "execution_count": 1,
   "metadata": {},
   "outputs": [
    {
     "ename": "NameError",
     "evalue": "name 'dict_transcripts_two' is not defined",
     "output_type": "error",
     "traceback": [
      "\u001b[1;31m---------------------------------------------------------------------------\u001b[0m",
      "\u001b[1;31mNameError\u001b[0m                                 Traceback (most recent call last)",
      "\u001b[1;32m<ipython-input-1-31078c06e0fc>\u001b[0m in \u001b[0;36m<module>\u001b[1;34m\u001b[0m\n\u001b[0;32m      1\u001b[0m \u001b[0mint_sentence_total\u001b[0m \u001b[1;33m=\u001b[0m \u001b[1;36m0\u001b[0m\u001b[1;33m\u001b[0m\u001b[1;33m\u001b[0m\u001b[0m\n\u001b[1;32m----> 2\u001b[1;33m \u001b[1;32mfor\u001b[0m \u001b[0mstr_key_id\u001b[0m \u001b[1;32min\u001b[0m \u001b[0mdict_transcripts_two\u001b[0m\u001b[1;33m.\u001b[0m\u001b[0mkeys\u001b[0m\u001b[1;33m(\u001b[0m\u001b[1;33m)\u001b[0m\u001b[1;33m:\u001b[0m\u001b[1;33m\u001b[0m\u001b[1;33m\u001b[0m\u001b[0m\n\u001b[0m\u001b[0;32m      3\u001b[0m     \u001b[0mdict_transcripts_two\u001b[0m\u001b[1;33m[\u001b[0m\u001b[0mstr_key_id\u001b[0m\u001b[1;33m]\u001b[0m\u001b[1;33m[\u001b[0m\u001b[1;34m\"sentence_count\"\u001b[0m\u001b[1;33m]\u001b[0m \u001b[1;33m=\u001b[0m \u001b[0mlen\u001b[0m\u001b[1;33m(\u001b[0m\u001b[0mdict_transcripts_two\u001b[0m\u001b[1;33m[\u001b[0m\u001b[0mstr_key_id\u001b[0m\u001b[1;33m]\u001b[0m\u001b[1;33m[\u001b[0m\u001b[1;34m\"transcript\"\u001b[0m\u001b[1;33m]\u001b[0m\u001b[1;33m.\u001b[0m\u001b[0msplit\u001b[0m\u001b[1;33m(\u001b[0m\u001b[1;34m\".\"\u001b[0m\u001b[1;33m)\u001b[0m\u001b[1;33m)\u001b[0m\u001b[1;33m\u001b[0m\u001b[1;33m\u001b[0m\u001b[0m\n\u001b[0;32m      4\u001b[0m     \u001b[1;31m#print(dict_transcripts_two[str_key_id][\"word_count\"])\u001b[0m\u001b[1;33m\u001b[0m\u001b[1;33m\u001b[0m\u001b[1;33m\u001b[0m\u001b[0m\n\u001b[0;32m      5\u001b[0m     \u001b[0mcount\u001b[0m \u001b[1;33m=\u001b[0m \u001b[0mdict_transcripts_two\u001b[0m\u001b[1;33m[\u001b[0m\u001b[0mstr_key_id\u001b[0m\u001b[1;33m]\u001b[0m\u001b[1;33m[\u001b[0m\u001b[1;34m\"sentence_count\"\u001b[0m\u001b[1;33m]\u001b[0m\u001b[1;33m\u001b[0m\u001b[1;33m\u001b[0m\u001b[0m\n",
      "\u001b[1;31mNameError\u001b[0m: name 'dict_transcripts_two' is not defined"
     ]
    }
   ],
   "source": [
    "int_sentence_total = 0\n",
    "for str_key_id in dict_transcripts_two.keys():\n",
    "    dict_transcripts_two[str_key_id][\"sentence_count\"] = len(dict_transcripts_two[str_key_id][\"transcript\"].split(\".\"))\n",
    "    #print(dict_transcripts_two[str_key_id][\"word_count\"])\n",
    "    count = dict_transcripts_two[str_key_id][\"sentence_count\"]\n",
    "    if count < 10:\n",
    "        print(count, dict_transcripts_two[str_key_id][\"title\"])\n",
    "    int_sentence_total += dict_transcripts_two[str_key_id][\"sentence_count\"]"
   ]
  },
  {
   "cell_type": "code",
   "execution_count": 48,
   "metadata": {},
   "outputs": [
    {
     "data": {
      "text/plain": [
       "509802"
      ]
     },
     "execution_count": 48,
     "metadata": {},
     "output_type": "execute_result"
    }
   ],
   "source": [
    "int_words_total"
   ]
  },
  {
   "cell_type": "code",
   "execution_count": 58,
   "metadata": {},
   "outputs": [
    {
     "data": {
      "text/plain": [
       "8110"
      ]
     },
     "execution_count": 58,
     "metadata": {},
     "output_type": "execute_result"
    }
   ],
   "source": [
    "int_sentence_total"
   ]
  }
 ],
 "metadata": {
  "kernelspec": {
   "display_name": "Python 3",
   "language": "python",
   "name": "python3"
  },
  "language_info": {
   "codemirror_mode": {
    "name": "ipython",
    "version": 3
   },
   "file_extension": ".py",
   "mimetype": "text/x-python",
   "name": "python",
   "nbconvert_exporter": "python",
   "pygments_lexer": "ipython3",
   "version": "3.8.5"
  }
 },
 "nbformat": 4,
 "nbformat_minor": 4
}
